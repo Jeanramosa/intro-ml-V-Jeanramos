{
 "cells": [
  {
   "cell_type": "markdown",
   "id": "8496896e",
   "metadata": {},
   "source": [
    "# Intro to MLFlow I"
   ]
  },
  {
   "cell_type": "markdown",
   "id": "889601ff",
   "metadata": {},
   "source": [
    "#### Immport MLflow"
   ]
  },
  {
   "cell_type": "code",
   "execution_count": 1,
   "id": "64324e86",
   "metadata": {},
   "outputs": [],
   "source": [
    "import mlflow"
   ]
  },
  {
   "cell_type": "markdown",
   "id": "06ae0d99",
   "metadata": {},
   "source": [
    "### Connect to MLFlow"
   ]
  },
  {
   "cell_type": "code",
   "execution_count": 3,
   "id": "28d8faaf",
   "metadata": {},
   "outputs": [],
   "source": [
    "MLFLOW_TRACKING_URI = \"http://127.0.0.1:5000\"\n",
    "\n",
    "mlflow.set_tracking_uri(MLFLOW_TRACKING_URI)"
   ]
  },
  {
   "cell_type": "code",
   "execution_count": null,
   "id": "945d4eec",
   "metadata": {},
   "outputs": [],
   "source": [
    "#If not working this will raise an exception\n",
    "experiments = mlflow.search_experiments()"
   ]
  },
  {
   "cell_type": "code",
   "execution_count": null,
   "id": "a5a14614",
   "metadata": {},
   "outputs": [
    {
     "data": {
      "text/plain": [
       "[<Experiment: artifact_location='mlflow-artifacts:/0', creation_time=1749576430291, experiment_id='0', last_update_time=1749576430291, lifecycle_stage='active', name='Default', tags={}>]"
      ]
     },
     "execution_count": 5,
     "metadata": {},
     "output_type": "execute_result"
    }
   ],
   "source": [
    "#si la conexion no es automatica revisar el url.\n",
    "experiments"
   ]
  },
  {
   "cell_type": "code",
   "execution_count": null,
   "id": "2218c401",
   "metadata": {},
   "outputs": [],
   "source": [
    "#para crar un experimento nuevo se hace\n",
    "\n",
    "# mlflow.set_experiment(\"my_expriment\")"
   ]
  },
  {
   "cell_type": "markdown",
   "id": "5e243816",
   "metadata": {},
   "source": [
    "### Conect to the Experiment"
   ]
  },
  {
   "cell_type": "code",
   "execution_count": 7,
   "id": "86ce96b9",
   "metadata": {},
   "outputs": [
    {
     "name": "stderr",
     "output_type": "stream",
     "text": [
      "2025/06/10 17:58:38 INFO mlflow.tracking.fluent: Experiment with name 'My experiment' does not exist. Creating a new experiment.\n"
     ]
    },
    {
     "data": {
      "text/plain": [
       "<Experiment: artifact_location='mlflow-artifacts:/272496244228962745', creation_time=1749578318244, experiment_id='272496244228962745', last_update_time=1749578318244, lifecycle_stage='active', name='My experiment', tags={}>"
      ]
     },
     "execution_count": 7,
     "metadata": {},
     "output_type": "execute_result"
    }
   ],
   "source": [
    "EXPERIMENT_NAME = \"My experiment\"\n",
    "\n",
    "mlflow.set_experiment(EXPERIMENT_NAME)"
   ]
  },
  {
   "cell_type": "markdown",
   "id": "dc370e27",
   "metadata": {},
   "source": [
    "### Create my first run"
   ]
  },
  {
   "cell_type": "code",
   "execution_count": null,
   "id": "a8fc6cfd",
   "metadata": {},
   "outputs": [
    {
     "name": "stdout",
     "output_type": "stream",
     "text": [
      "🏃 View run sassy-sloth-518 at: http://127.0.0.1:5000/#/experiments/272496244228962745/runs/82ae315ccbfd4248a9ebde42447dd143\n",
      "🧪 View experiment at: http://127.0.0.1:5000/#/experiments/272496244228962745\n"
     ]
    }
   ],
   "source": [
    "with mlflow.start_run():\n",
    "    pass"
   ]
  },
  {
   "cell_type": "markdown",
   "id": "3e153452",
   "metadata": {},
   "source": [
    "### Log Data into MLFlow"
   ]
  },
  {
   "cell_type": "markdown",
   "id": "174d3b23",
   "metadata": {},
   "source": [
    "#### Log Tag"
   ]
  },
  {
   "cell_type": "code",
   "execution_count": 10,
   "id": "dd1c3f5e",
   "metadata": {},
   "outputs": [
    {
     "name": "stdout",
     "output_type": "stream",
     "text": [
      "🏃 View run dashing-colt-924 at: http://127.0.0.1:5000/#/experiments/272496244228962745/runs/8a5c1d57627c4f818f247c0ba850a7b3\n",
      "🧪 View experiment at: http://127.0.0.1:5000/#/experiments/272496244228962745\n"
     ]
    }
   ],
   "source": [
    "with mlflow.start_run():\n",
    "    mlflow.set_tag(\"Model name\", \"Decision Tree\")\n",
    "    mlflow.set_tag(\"Author\", \"Jean Paul\")"
   ]
  },
  {
   "cell_type": "markdown",
   "id": "6f839f09",
   "metadata": {},
   "source": [
    "#### Log Parameters"
   ]
  },
  {
   "cell_type": "code",
   "execution_count": 11,
   "id": "da03a066",
   "metadata": {},
   "outputs": [
    {
     "name": "stdout",
     "output_type": "stream",
     "text": [
      "🏃 View run amazing-jay-299 at: http://127.0.0.1:5000/#/experiments/272496244228962745/runs/edbced9e576b4fb1aa7fafbb75aea056\n",
      "🧪 View experiment at: http://127.0.0.1:5000/#/experiments/272496244228962745\n"
     ]
    }
   ],
   "source": [
    "with mlflow.start_run():\n",
    "    mlflow.log_param(\"Test Size\", 0.2)"
   ]
  },
  {
   "cell_type": "markdown",
   "id": "8d5ec6f9",
   "metadata": {},
   "source": [
    "#### Log Metrics"
   ]
  },
  {
   "cell_type": "code",
   "execution_count": 12,
   "id": "38fbb12b",
   "metadata": {},
   "outputs": [
    {
     "name": "stdout",
     "output_type": "stream",
     "text": [
      "🏃 View run silent-koi-157 at: http://127.0.0.1:5000/#/experiments/272496244228962745/runs/b515b7d9d72044098550a2163ab930ce\n",
      "🧪 View experiment at: http://127.0.0.1:5000/#/experiments/272496244228962745\n"
     ]
    }
   ],
   "source": [
    "with mlflow.start_run():\n",
    "    mlflow.log_metric(\"Accuracy\", 0.95)"
   ]
  },
  {
   "cell_type": "markdown",
   "id": "6b1f5fc1",
   "metadata": {},
   "source": [
    "### Log parameters, metrics, and tags"
   ]
  },
  {
   "cell_type": "code",
   "execution_count": null,
   "id": "ddef7082",
   "metadata": {},
   "outputs": [],
   "source": [
    "TEST_SIZE = 0.3\n",
    "MODEL = \"Decision Tree\"\n",
    "\n",
    "with mlflow.start_run():\n",
    "    mlflow.set_tag(\"Model name\", MODEL)\n",
    "    mlflow.log_param(\"Test Size\", TEST_SIZE)\n",
    "    mlflow.log_metric(\"Accuracy\", 0.95)"
   ]
  }
 ],
 "metadata": {
  "kernelspec": {
   "display_name": "venv",
   "language": "python",
   "name": "python3"
  },
  "language_info": {
   "codemirror_mode": {
    "name": "ipython",
    "version": 3
   },
   "file_extension": ".py",
   "mimetype": "text/x-python",
   "name": "python",
   "nbconvert_exporter": "python",
   "pygments_lexer": "ipython3",
   "version": "3.11.11"
  }
 },
 "nbformat": 4,
 "nbformat_minor": 5
}
